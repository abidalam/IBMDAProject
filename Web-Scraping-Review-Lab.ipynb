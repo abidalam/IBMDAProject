{
 "cells": [
  {
   "cell_type": "markdown",
   "metadata": {},
   "source": [
    "<center>\n",
    "    <img src=\"https://gitlab.com/ibm/skills-network/courses/placeholder101/-/raw/master/labs/module%201/images/IDSNlogo.png\" width=\"300\" alt=\"cognitiveclass.ai logo\"  />\n",
    "</center>\n"
   ]
  },
  {
   "cell_type": "markdown",
   "metadata": {},
   "source": [
    "# **Web Scraping Lab**\n"
   ]
  },
  {
   "cell_type": "markdown",
   "metadata": {},
   "source": [
    "Estimated time needed: **30** minutes\n"
   ]
  },
  {
   "cell_type": "markdown",
   "metadata": {},
   "source": [
    "## Objectives\n"
   ]
  },
  {
   "cell_type": "markdown",
   "metadata": {},
   "source": [
    "After completing this lab you will be able to:\n"
   ]
  },
  {
   "cell_type": "markdown",
   "metadata": {},
   "source": [
    "-   Download a webpage using requests module\n",
    "-   Scrape all links from a web page\n",
    "-   Scrape all image urls from a web page\n",
    "-   Scrape data from html tables\n"
   ]
  },
  {
   "cell_type": "markdown",
   "metadata": {},
   "source": [
    "## Scrape [www.ibm.com](http://www.ibm.com?cm_mmc=Email_Newsletter-_-Developer_Ed%2BTech-_-WW_WW-_-SkillsNetwork-Courses-IBM-DA0321EN-SkillsNetwork-21426264&cm_mmca1=000026UJ&cm_mmca2=10006555&cm_mmca3=M12345678&cvosrc=email.Newsletter.M12345678&cvo_campaign=000026UJ&cm_mmc=Email_Newsletter-_-Developer_Ed%2BTech-_-WW_WW-_-SkillsNetwork-Courses-IBM-DA0321EN-SkillsNetwork-21426264&cm_mmca1=000026UJ&cm_mmca2=10006555&cm_mmca3=M12345678&cvosrc=email.Newsletter.M12345678&cvo_campaign=000026UJ)\n"
   ]
  },
  {
   "cell_type": "markdown",
   "metadata": {},
   "source": [
    "Import the required modules and functions\n"
   ]
  },
  {
   "cell_type": "code",
   "execution_count": 1,
   "metadata": {},
   "outputs": [],
   "source": [
    "from bs4 import BeautifulSoup # this module helps in web scrapping.\n",
    "import requests  # this module helps us to download a web page"
   ]
  },
  {
   "cell_type": "markdown",
   "metadata": {},
   "source": [
    "Download the contents of the web page\n"
   ]
  },
  {
   "cell_type": "code",
   "execution_count": 2,
   "metadata": {},
   "outputs": [],
   "source": [
    "url = \"http://www.ibm.com\""
   ]
  },
  {
   "cell_type": "code",
   "execution_count": 3,
   "metadata": {},
   "outputs": [],
   "source": [
    "# get the contents of the webpage in text format and store in a variable called data\n",
    "data  = requests.get(url).text "
   ]
  },
  {
   "cell_type": "markdown",
   "metadata": {},
   "source": [
    "Create a soup object using the class BeautifulSoup\n"
   ]
  },
  {
   "cell_type": "code",
   "execution_count": 4,
   "metadata": {},
   "outputs": [],
   "source": [
    "soup = BeautifulSoup(data,\"html5lib\")  # create a soup object using the variable 'data'"
   ]
  },
  {
   "cell_type": "markdown",
   "metadata": {},
   "source": [
    "Scrape all links\n"
   ]
  },
  {
   "cell_type": "code",
   "execution_count": 5,
   "metadata": {},
   "outputs": [
    {
     "name": "stdout",
     "output_type": "stream",
     "text": [
      "https://www.ibm.com/my/en\n",
      "https://www.ibm.com/sitemap/my/en\n",
      "https://www.ibm.com/quantum-computing/use-case/business\n",
      "https://www.ibm.com/quantum-computing/use-case/business\n",
      "https://www.ibm.com/my-en/smarter-business\n",
      "https://www.ibm.com/account/reg/sg-en/signup?formid=urx-47596\n",
      "https://www.ibm.com/my-en/cloud/power-virtual-server\n",
      "https://www.research.ibm.com/5-in-5\n",
      "https://www.ibm.com/search?lang=en&amp;cc=my&amp;q=\n",
      "/my-en/products\n",
      "/my-en/products\n",
      "//www.ibm.com/my-en/products/category/technology/analytics\n",
      "//www.ibm.com/my-en/products/category/technology/cloud-computing\n",
      "//www.ibm.com/my-en/products/category/technology/mobile-technology\n",
      "//www.ibm.com/my-en/products/category/technology/cognitive-computing-and-AI\n",
      "//www.ibm.com/my-en/products/category/technology/IT-infrastructure\n",
      "//www.ibm.com/my-en/products/category/technology/security\n",
      "//www.ibm.com/my-en/products/category/technology/blockchain\n",
      "//www.ibm.com/my-en/products/category/technology/IT-management\n",
      "//www.ibm.com/my-en/products/category/technology/software-development\n",
      "//www.ibm.com/my-en/products/category/technology/analytics\n",
      "//www.ibm.com/my-en/products/category/technology/cloud-computing\n",
      "//www.ibm.com/my-en/products/category/technology/mobile-technology\n",
      "//www.ibm.com/my-en/products/category/technology/cognitive-computing-and-AI\n",
      "//www.ibm.com/my-en/products/category/technology/IT-infrastructure\n",
      "//www.ibm.com/my-en/products/category/technology/security\n",
      "//www.ibm.com/my-en/products/category/technology/blockchain\n",
      "//www.ibm.com/my-en/products/category/technology/IT-management\n",
      "//www.ibm.com/my-en/products/category/technology/software-development\n",
      "//www.ibm.com/my-en/products/category/business/business-operations\n",
      "//www.ibm.com/my-en/products/category/business/content-management\n",
      "//www.ibm.com/my-en/products/category/business/human-resources\n",
      "//www.ibm.com/my-en/products/category/business/collaboration\n",
      "//www.ibm.com/my-en/products/category/business/customer-service-and-CRM\n",
      "//www.ibm.com/my-en/products/category/business/marketing\n",
      "//www.ibm.com/my-en/products/category/business/commerce\n",
      "//www.ibm.com/my-en/products/category/business/finance\n",
      "//www.ibm.com/my-en/products/category/business/supply-chain-management\n",
      "https://www.ibm.com/sg-en/cloud/public/?lnk=ushpv18s1\n",
      "https://www.ibm.com/sg-en/cloud/public/?lnk=ushpv18s1\n",
      "https://www.ibm.com/sg-en/cloud/public/?lnk=ushpv18s1\n",
      "##\n",
      "https://www.ibm.com/sg-en/cloud/public/?lnk=ushpv18s1\n",
      "https://www.ibm.com/sg-en/cloud/public/?lnk=ushpv18s1\n",
      "##\n",
      "https://www.ibm.com/sg-en/cloud/public/?lnk=ushpv18s1\n",
      "https://www.ibm.com/sg-en/cloud/public/?lnk=ushpv18s1\n",
      "https://www.ibm.com/sg-en/cloud/public/?lnk=ushpv18s1\n",
      "/my-en/products/offers-and-discounts\n",
      "https://www.ibm.com/my-en/products/spss-statistics?lnk=STW_MY_HPT_T1_BLK&psrc=NONE&pexp=DEF&lnk2=trial_SPSSstat\n",
      "https://www.ibm.com/my-en/products/blueworkslive?lnk=STW_MY_HPT_T2_BLK&psrc=NONE&pexp=DEF&lnk2=trial_BluLive\n",
      "https://www.ibm.com/my-en/cloud/aspera?lnk=STW_MY_HPT_T3_BLK&psrc=NONE&pexp=DEF&lnk2=trial_AsperaCloud\n",
      "https://www.ibm.com/my-en/marketplace/ibm-spectrum-protect-plus?lnk=STW_MY_HPT_T4_BLK&psrc=NONE&pexp=DEF&lnk2=trial_SpecProtPlus\n",
      "https://www.ibm.com/employment/\n",
      "https://www.ibm.com/employment/\n",
      "#\n"
     ]
    }
   ],
   "source": [
    "for link in soup.find_all('a'):  # in html anchor/link is represented by the tag <a>\n",
    "    print(link.get('href'))"
   ]
  },
  {
   "cell_type": "markdown",
   "metadata": {},
   "source": [
    "Scrape  all images\n"
   ]
  },
  {
   "cell_type": "code",
   "execution_count": 6,
   "metadata": {},
   "outputs": [
    {
     "name": "stdout",
     "output_type": "stream",
     "text": [
      "https://1.dam.s81c.com/m/6d37ff4b069bd505/original/10052020-ls-quantum-myths-25402-mobile-720x360.jpg\n",
      "https://1.dam.s81c.com/m/64ce011df70079a7/original/10052020-f-enterprise-applications-25422-444x320.jpg,\n",
      "https://1.dam.s81c.com/m/1b3869c4bfbfa55b/original/cloud-pak-security-444x320.jpg\n",
      "https://1.dam.s81c.com/m/5f6009d608bae3b6/original/08032020-igf-CPOM-24816-444x320.jpg\n",
      "https://1.dam.s81c.com/m/4c810ad421bc3ef7/original/09282020-f-5-in-5-2020-25440-444x320.png\n",
      "https://1.dam.s81c.com/m/612b6a2c2e9848f8/original/12102018-f-think2019-journey-to-cloud-20675-444x320.jpg\n",
      "https://1.dam.s81c.com/m/612b6a2c2e9848f8/original/12102018-f-think2019-journey-to-cloud-20675-444x320.jpg\n",
      "https://1.dam.s81c.com/m/384ebe707abace40/original/SPSS-Statistics-23108-700x420.png\n",
      "https://1.dam.s81c.com/m/22ab2cfab401588b/original/10072019-t-bt-MaaS360-watson-23210-700x420.png\n",
      "https://1.dam.s81c.com/m/1416167d8fdce5da/original/Aspera-on-Cloud-19783-700x420.png\n",
      "https://1.dam.s81c.com/m/675c2a67b5b153c0/original/Spectrum-Protect-Plus-22964-700x420.png\n"
     ]
    }
   ],
   "source": [
    "for link in soup.find_all('img'):# in html image is represented by the tag <img>\n",
    "    print(link.get('src'))"
   ]
  },
  {
   "cell_type": "markdown",
   "metadata": {},
   "source": [
    "## Scrape data from html tables\n"
   ]
  },
  {
   "cell_type": "code",
   "execution_count": 7,
   "metadata": {},
   "outputs": [],
   "source": [
    "#The below url contains a html table with data about colors and color codes."
   ]
  },
  {
   "cell_type": "code",
   "execution_count": 8,
   "metadata": {},
   "outputs": [],
   "source": [
    "url = \"https://cf-courses-data.s3.us.cloud-object-storage.appdomain.cloud/IBM-DA0321EN-SkillsNetwork/labs/datasets/HTMLColorCodes.html\""
   ]
  },
  {
   "cell_type": "markdown",
   "metadata": {},
   "source": [
    "Before proceeding to scrape a web site, you need to examine the contents, and the way data is organized on the website. Open the above url in your browser and check how many rows and columns are there in the color table.\n"
   ]
  },
  {
   "cell_type": "code",
   "execution_count": 9,
   "metadata": {},
   "outputs": [],
   "source": [
    "# get the contents of the webpage in text format and store in a variable called data\n",
    "data  = requests.get(url).text"
   ]
  },
  {
   "cell_type": "code",
   "execution_count": 10,
   "metadata": {},
   "outputs": [],
   "source": [
    "soup = BeautifulSoup(data,\"html5lib\")"
   ]
  },
  {
   "cell_type": "code",
   "execution_count": 11,
   "metadata": {},
   "outputs": [],
   "source": [
    "#find a html table in the web page\n",
    "table = soup.find('table') # in html table is represented by the tag <table>"
   ]
  },
  {
   "cell_type": "code",
   "execution_count": 12,
   "metadata": {},
   "outputs": [
    {
     "name": "stdout",
     "output_type": "stream",
     "text": [
      "Color Name--->Hex Code#RRGGBB\n",
      "lightsalmon--->#FFA07A\n",
      "salmon--->#FA8072\n",
      "darksalmon--->#E9967A\n",
      "lightcoral--->#F08080\n",
      "coral--->#FF7F50\n",
      "tomato--->#FF6347\n",
      "orangered--->#FF4500\n",
      "gold--->#FFD700\n",
      "orange--->#FFA500\n",
      "darkorange--->#FF8C00\n",
      "lightyellow--->#FFFFE0\n",
      "lemonchiffon--->#FFFACD\n",
      "papayawhip--->#FFEFD5\n",
      "moccasin--->#FFE4B5\n",
      "peachpuff--->#FFDAB9\n",
      "palegoldenrod--->#EEE8AA\n",
      "khaki--->#F0E68C\n",
      "darkkhaki--->#BDB76B\n",
      "yellow--->#FFFF00\n",
      "lawngreen--->#7CFC00\n",
      "chartreuse--->#7FFF00\n",
      "limegreen--->#32CD32\n",
      "lime--->#00FF00\n",
      "forestgreen--->#228B22\n",
      "green--->#008000\n",
      "powderblue--->#B0E0E6\n",
      "lightblue--->#ADD8E6\n",
      "lightskyblue--->#87CEFA\n",
      "skyblue--->#87CEEB\n",
      "deepskyblue--->#00BFFF\n",
      "lightsteelblue--->#B0C4DE\n",
      "dodgerblue--->#1E90FF\n"
     ]
    }
   ],
   "source": [
    "#Get all rows from the table\n",
    "for row in table.find_all('tr'): # in html table row is represented by the tag <tr>\n",
    "    # Get all columns in each row.\n",
    "    cols = row.find_all('td') # in html a column is represented by the tag <td>\n",
    "    color_name = cols[2].getText() # store the value in column 3 as color_name\n",
    "    color_code = cols[3].getText() # store the value in column 4 as color_code\n",
    "    print(\"{}--->{}\".format(color_name,color_code))"
   ]
  },
  {
   "cell_type": "markdown",
   "metadata": {},
   "source": [
    "## Authors\n"
   ]
  },
  {
   "cell_type": "markdown",
   "metadata": {},
   "source": [
    "Ramesh Sannareddy\n"
   ]
  },
  {
   "cell_type": "markdown",
   "metadata": {},
   "source": [
    "### Other Contributors\n"
   ]
  },
  {
   "cell_type": "markdown",
   "metadata": {},
   "source": [
    "Rav Ahuja\n"
   ]
  },
  {
   "cell_type": "markdown",
   "metadata": {},
   "source": [
    "## Change Log\n"
   ]
  },
  {
   "cell_type": "markdown",
   "metadata": {},
   "source": [
    "| Date (YYYY-MM-DD) | Version | Changed By        | Change Description                 |\n",
    "| ----------------- | ------- | ----------------- | ---------------------------------- |\n",
    "| 2020-10-17        | 0.1     | Ramesh Sannareddy | Created initial version of the lab |\n"
   ]
  },
  {
   "cell_type": "markdown",
   "metadata": {},
   "source": [
    " Copyright © 2020 IBM Corporation. This notebook and its source code are released under the terms of the [MIT License](https://cognitiveclass.ai/mit-license?cm_mmc=Email_Newsletter-_-Developer_Ed%2BTech-_-WW_WW-_-SkillsNetwork-Courses-IBM-DA0321EN-SkillsNetwork-21426264&cm_mmca1=000026UJ&cm_mmca2=10006555&cm_mmca3=M12345678&cvosrc=email.Newsletter.M12345678&cvo_campaign=000026UJ&cm_mmc=Email_Newsletter-_-Developer_Ed%2BTech-_-WW_WW-_-SkillsNetwork-Courses-IBM-DA0321EN-SkillsNetwork-21426264&cm_mmca1=000026UJ&cm_mmca2=10006555&cm_mmca3=M12345678&cvosrc=email.Newsletter.M12345678&cvo_campaign=000026UJ&cm_mmc=Email_Newsletter-_-Developer_Ed%2BTech-_-WW_WW-_-SkillsNetwork-Courses-IBM-DA0321EN-SkillsNetwork-21426264&cm_mmca1=000026UJ&cm_mmca2=10006555&cm_mmca3=M12345678&cvosrc=email.Newsletter.M12345678&cvo_campaign=000026UJ&cm_mmc=Email_Newsletter-_-Developer_Ed%2BTech-_-WW_WW-_-SkillsNetwork-Courses-IBM-DA0321EN-SkillsNetwork-21426264&cm_mmca1=000026UJ&cm_mmca2=10006555&cm_mmca3=M12345678&cvosrc=email.Newsletter.M12345678&cvo_campaign=000026UJ).\n"
   ]
  }
 ],
 "metadata": {
  "kernelspec": {
   "display_name": "Python 3",
   "language": "python",
   "name": "python3"
  },
  "language_info": {
   "codemirror_mode": {
    "name": "ipython",
    "version": 3
   },
   "file_extension": ".py",
   "mimetype": "text/x-python",
   "name": "python",
   "nbconvert_exporter": "python",
   "pygments_lexer": "ipython3",
   "version": "3.8.3"
  }
 },
 "nbformat": 4,
 "nbformat_minor": 4
}
